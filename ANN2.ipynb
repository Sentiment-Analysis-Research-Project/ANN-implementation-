{
  "nbformat": 4,
  "nbformat_minor": 0,
  "metadata": {
    "colab": {
      "name": "ANN2.ipynb",
      "provenance": [],
      "collapsed_sections": []
    },
    "kernelspec": {
      "name": "python3",
      "display_name": "Python 3"
    },
    "language_info": {
      "name": "python"
    }
  },
  "cells": [
    {
      "cell_type": "code",
      "metadata": {
        "id": "18UML_TqViIv",
        "colab": {
          "base_uri": "https://localhost:8080/"
        },
        "outputId": "d2386b4b-aa74-42fb-bc37-046f8e20dc2e"
      },
      "source": [
        "from google.colab import drive\n",
        "drive.mount('/content/drive')"
      ],
      "execution_count": 1,
      "outputs": [
        {
          "output_type": "stream",
          "text": [
            "Mounted at /content/drive\n"
          ],
          "name": "stdout"
        }
      ]
    },
    {
      "cell_type": "code",
      "metadata": {
        "id": "EQ9TJKWdUgz6"
      },
      "source": [
        "import pandas as pd\n",
        "import re\n",
        "import numpy as np"
      ],
      "execution_count": 4,
      "outputs": []
    },
    {
      "cell_type": "code",
      "metadata": {
        "colab": {
          "base_uri": "https://localhost:8080/"
        },
        "id": "-28Ssd7ExShA",
        "outputId": "c0fe8b88-3678-451f-f1cb-476f15cfbc70"
      },
      "source": [
        "#import pandas as pd\n",
        "#data = pd.read_csv(\"/content/drive/MyDrive/Movie Review data/IMDB Dataset.csv\")\n",
        "#data.shape\n",
        "#from sklearn import preprocessing\n",
        "#le = preprocessing.LabelEncoder()\n",
        "#data['label'] = le.fit_transform(data['sentiment'])\n",
        "#from nltk.corpus import stopwords\n",
        "#from nltk.stem import PorterStemmer\n",
        "#import nltk\n",
        "#nltk.download('stopwords')\n",
        "#sw = set(stopwords.words('english'))\n",
        "#ps = PorterStemmer()\n",
        "#import re\n",
        "#def clean_text(sample):\n",
        " # sample = sample.lower()\n",
        "  #sample = sample.replace(\"<br /><br />\",\"\")\n",
        "  #sample = re.sub(\"[^a-zA-Z]+\",\" \",sample)\n",
        "  #sample = sample.split()\n",
        "  #sample = [ps.stem(s) for s in sample if s not in sw]\n",
        "  #sample = \" \".join(sample)\n",
        "  #return sample\n",
        "#data.loc[:,'clean']=data['review'].apply(clean_text)\n",
        "#data.to_csv('/content/drive/MyDrive/Movie Review data/cleaned_data.csv')\n",
        "#train_data=data.iloc[:42500,:]\n",
        "#test_data= data.iloc[42500:,:]\n",
        "#train_data.to_csv('/content/drive/MyDrive/Movie Review data/cleaned_train_data.csv')\n",
        "#test_data.to_csv('/content/drive/MyDrive/Movie Review data/cleaned_test_data.csv')"
      ],
      "execution_count": null,
      "outputs": [
        {
          "output_type": "execute_result",
          "data": {
            "text/plain": [
              "(50000, 2)"
            ]
          },
          "metadata": {
            "tags": []
          },
          "execution_count": 3
        }
      ]
    },
    {
      "cell_type": "code",
      "metadata": {
        "id": "_9Y7c_uryG-z"
      },
      "source": [
        "train_data =pd.read_csv(\"/content/drive/MyDrive/Movie Review data/cleaned_train_data.csv\")\n",
        "test_data =pd.read_csv(\"/content/drive/MyDrive/Movie Review data/cleaned_test_data.csv\")"
      ],
      "execution_count": 5,
      "outputs": []
    },
    {
      "cell_type": "markdown",
      "metadata": {
        "id": "oyt1HE7eMXKH"
      },
      "source": [
        "#Converting textual data into numeric form \n",
        "#TFIDF"
      ]
    },
    {
      "cell_type": "code",
      "metadata": {
        "colab": {
          "base_uri": "https://localhost:8080/"
        },
        "id": "FxuPmUDt1uNZ",
        "outputId": "311c8466-73ef-4645-b9aa-0e8d3bd1bcd2"
      },
      "source": [
        "from sklearn.feature_extraction.text import CountVectorizer, TfidfTransformer\n",
        "cv = CountVectorizer(max_df = 0.5,max_features = 50000)\n",
        "X_train = cv.fit_transform(train_data['clean'].values)\n",
        "X_test = cv.transform(test_data['clean'].values)\n",
        "print(X_train.shape)\n",
        "type(X_train)"
      ],
      "execution_count": 6,
      "outputs": [
        {
          "output_type": "stream",
          "text": [
            "(42500, 50000)\n"
          ],
          "name": "stdout"
        },
        {
          "output_type": "execute_result",
          "data": {
            "text/plain": [
              "scipy.sparse.csr.csr_matrix"
            ]
          },
          "metadata": {
            "tags": []
          },
          "execution_count": 6
        }
      ]
    },
    {
      "cell_type": "code",
      "metadata": {
        "colab": {
          "base_uri": "https://localhost:8080/"
        },
        "id": "WszhhONX2IiY",
        "outputId": "dd5160a3-14d4-43c1-8e2c-46408c97981e"
      },
      "source": [
        "tfidf = TfidfTransformer()\n",
        "X_train1 = tfidf.fit_transform(X_train)\n",
        "X_test1 = tfidf.transform(X_test)\n",
        "X_test1.shape ,X_train1.shape"
      ],
      "execution_count": 7,
      "outputs": [
        {
          "output_type": "execute_result",
          "data": {
            "text/plain": [
              "((7500, 50000), (42500, 50000))"
            ]
          },
          "metadata": {
            "tags": []
          },
          "execution_count": 7
        }
      ]
    },
    {
      "cell_type": "code",
      "metadata": {
        "id": "HFIQzv-h2Y_t"
      },
      "source": [
        "#print(X_train1[0])\n",
        "#print(type(X_train1))\n",
        "#print(train_data[\"label\"].dtype)"
      ],
      "execution_count": null,
      "outputs": []
    },
    {
      "cell_type": "markdown",
      "metadata": {
        "id": "H5Zour1hMm7Z"
      },
      "source": [
        "Data Distribution\n",
        "Total reviews = 50k\n",
        "Training data = 35k (70%)\n",
        "Validation data = 7.5k(15%)\n",
        "Test data = 7.5k(15%)"
      ]
    },
    {
      "cell_type": "code",
      "metadata": {
        "id": "ghTC-yaALLZZ"
      },
      "source": [
        "#X_final_train = X_train1[:35000]\n",
        "#X_final_valid = X_train1[35000:]\n",
        "#Y_final_train = train_data['label'][:35000]\n",
        "#Y_final_valid =train_data['label'][35000:]"
      ],
      "execution_count": null,
      "outputs": []
    },
    {
      "cell_type": "markdown",
      "metadata": {
        "id": "dNeyUWhuPSym"
      },
      "source": [
        "#Converting csr matrix and nparray to tensorsparse"
      ]
    },
    {
      "cell_type": "code",
      "metadata": {
        "id": "iQxKfoQ7_ZYQ"
      },
      "source": [
        "import tensorflow as tf\n",
        "import numpy as np\n",
        "def convert_sparse_matrix_to_sparse_tensor(X):\n",
        "    coo = X.tocoo()\n",
        "    indices = np.mat([coo.row, coo.col]).transpose()\n",
        "    return tf.sparse.reorder(tf.SparseTensor(indices, coo.data, coo.shape))"
      ],
      "execution_count": 8,
      "outputs": []
    },
    {
      "cell_type": "code",
      "metadata": {
        "id": "K60kmY68_eUu"
      },
      "source": [
        "X_final_train = convert_sparse_matrix_to_sparse_tensor(X_train1[:35000])\n",
        "X_final_valid = convert_sparse_matrix_to_sparse_tensor( X_train1[35000:])\n",
        "X_final_test = convert_sparse_matrix_to_sparse_tensor(X_test1)"
      ],
      "execution_count": 9,
      "outputs": []
    },
    {
      "cell_type": "code",
      "metadata": {
        "colab": {
          "base_uri": "https://localhost:8080/"
        },
        "id": "NlUgygZo_spG",
        "outputId": "624f6d59-0adf-4d38-fdef-015e687b5b9e"
      },
      "source": [
        "type(X_final_train)"
      ],
      "execution_count": 10,
      "outputs": [
        {
          "output_type": "execute_result",
          "data": {
            "text/plain": [
              "tensorflow.python.framework.sparse_tensor.SparseTensor"
            ]
          },
          "metadata": {
            "tags": []
          },
          "execution_count": 10
        }
      ]
    },
    {
      "cell_type": "code",
      "metadata": {
        "id": "Um34eN7N__Ts"
      },
      "source": [
        "Y_final_train = tf.convert_to_tensor(train_data['label'][:35000])\n",
        "Y_final_valid = tf.convert_to_tensor(train_data['label'][35000:])\n",
        "Y_final_test = tf.convert_to_tensor(test_data['label'])"
      ],
      "execution_count": 11,
      "outputs": []
    },
    {
      "cell_type": "code",
      "metadata": {
        "colab": {
          "base_uri": "https://localhost:8080/"
        },
        "id": "4W9aihnVAfZT",
        "outputId": "b663fd4b-da9f-43eb-9f81-7362f6981851"
      },
      "source": [
        "print(Y_final_valid.shape,Y_final_train.shape)\n",
        "print(X_final_valid.shape,Y_final_train.shape)"
      ],
      "execution_count": 12,
      "outputs": [
        {
          "output_type": "stream",
          "text": [
            "(7500,) (35000,)\n",
            "(7500, 50000) (35000,)\n"
          ],
          "name": "stdout"
        }
      ]
    },
    {
      "cell_type": "markdown",
      "metadata": {
        "id": "DT07Tj1WPlo1"
      },
      "source": [
        "#Neural Network Architecture\n",
        "Feedforward and backpropogation\n",
        "\n",
        "\n",
        "*   Input layer = 50 k features\n",
        "*   1st Hidden layer = 16 Neurons's| relu activation function\n",
        "*   2nd Hidden Layer = 16 Neuron's | relu activation function \n",
        "*   Output Layer = 1 Neuron | sigmoid function\n",
        "\n",
        "\n",
        "\n",
        "\n",
        "\n",
        "\n",
        "\n",
        "\n",
        "\n"
      ]
    },
    {
      "cell_type": "code",
      "metadata": {
        "colab": {
          "base_uri": "https://localhost:8080/"
        },
        "id": "zMkBiQxRApqX",
        "outputId": "9ebc7636-172c-4f79-b5ec-62282ac1b8bb"
      },
      "source": [
        "# Total features =50k, i.e Input to the First hidden layer\n",
        "X_final_train.shape[1]"
      ],
      "execution_count": 13,
      "outputs": [
        {
          "output_type": "execute_result",
          "data": {
            "text/plain": [
              "50000"
            ]
          },
          "metadata": {
            "tags": []
          },
          "execution_count": 13
        }
      ]
    },
    {
      "cell_type": "code",
      "metadata": {
        "colab": {
          "base_uri": "https://localhost:8080/"
        },
        "id": "fd3AvDzeAptH",
        "outputId": "f68f8cc3-d8af-479d-eb7f-56cfbb8f1d28"
      },
      "source": [
        "from keras import models\n",
        "from keras.layers import Dense\n",
        "model = models.Sequential()\n",
        "model.add(Dense(16,activation='relu',input_shape=(X_final_train.shape[1],)))\n",
        "model.add(Dense(16,activation=\"relu\"))\n",
        "model.add(Dense(1,activation=\"sigmoid\"))\n",
        "model.summary()"
      ],
      "execution_count": 14,
      "outputs": [
        {
          "output_type": "stream",
          "text": [
            "Model: \"sequential\"\n",
            "_________________________________________________________________\n",
            "Layer (type)                 Output Shape              Param #   \n",
            "=================================================================\n",
            "dense (Dense)                (None, 16)                800016    \n",
            "_________________________________________________________________\n",
            "dense_1 (Dense)              (None, 16)                272       \n",
            "_________________________________________________________________\n",
            "dense_2 (Dense)              (None, 1)                 17        \n",
            "=================================================================\n",
            "Total params: 800,305\n",
            "Trainable params: 800,305\n",
            "Non-trainable params: 0\n",
            "_________________________________________________________________\n"
          ],
          "name": "stdout"
        }
      ]
    },
    {
      "cell_type": "code",
      "metadata": {
        "colab": {
          "base_uri": "https://localhost:8080/"
        },
        "id": "dQv6pg84A3q7",
        "outputId": "d46f7ffd-edf6-42ae-940f-57f0ac4fd3b3"
      },
      "source": [
        "X_final_train.shape"
      ],
      "execution_count": 15,
      "outputs": [
        {
          "output_type": "execute_result",
          "data": {
            "text/plain": [
              "TensorShape([35000, 50000])"
            ]
          },
          "metadata": {
            "tags": []
          },
          "execution_count": 15
        }
      ]
    },
    {
      "cell_type": "markdown",
      "metadata": {
        "id": "q3gpiNzvT6T9"
      },
      "source": [
        "#Optimization algorithm = rmsprop"
      ]
    },
    {
      "cell_type": "code",
      "metadata": {
        "id": "7rD20ggZA37p"
      },
      "source": [
        "model.compile(optimizer=\"rmsprop\",loss = \"binary_crossentropy\",metrics=[\"accuracy\"])"
      ],
      "execution_count": 16,
      "outputs": []
    },
    {
      "cell_type": "code",
      "metadata": {
        "colab": {
          "base_uri": "https://localhost:8080/"
        },
        "id": "lo8GDzqKA8nf",
        "outputId": "7a86dc77-baba-4a9e-d726-a797aae0cfd8"
      },
      "source": [
        "hist = model.fit(X_final_train,Y_final_train,batch_size=200,epochs=5,validation_data=(X_final_valid,Y_final_valid))"
      ],
      "execution_count": 17,
      "outputs": [
        {
          "output_type": "stream",
          "text": [
            "Epoch 1/5\n"
          ],
          "name": "stdout"
        },
        {
          "output_type": "stream",
          "text": [
            "/usr/local/lib/python3.7/dist-packages/tensorflow/python/framework/indexed_slices.py:449: UserWarning: Converting sparse IndexedSlices(IndexedSlices(indices=Tensor(\"gradient_tape/sequential/dense/embedding_lookup_sparse/Reshape_1:0\", shape=(None,), dtype=int32), values=Tensor(\"gradient_tape/sequential/dense/embedding_lookup_sparse/Reshape:0\", shape=(None, 16), dtype=float32), dense_shape=Tensor(\"gradient_tape/sequential/dense/embedding_lookup_sparse/Cast:0\", shape=(2,), dtype=int32))) to a dense Tensor of unknown shape. This may consume a large amount of memory.\n",
            "  \"shape. This may consume a large amount of memory.\" % value)\n"
          ],
          "name": "stderr"
        },
        {
          "output_type": "stream",
          "text": [
            "175/175 [==============================] - 17s 15ms/step - loss: 0.6232 - accuracy: 0.7607 - val_loss: 0.3639 - val_accuracy: 0.8840\n",
            "Epoch 2/5\n",
            "175/175 [==============================] - 2s 12ms/step - loss: 0.2913 - accuracy: 0.9069 - val_loss: 0.2501 - val_accuracy: 0.8989\n",
            "Epoch 3/5\n",
            "175/175 [==============================] - 2s 11ms/step - loss: 0.1809 - accuracy: 0.9335 - val_loss: 0.2453 - val_accuracy: 0.8989\n",
            "Epoch 4/5\n",
            "175/175 [==============================] - 2s 11ms/step - loss: 0.1442 - accuracy: 0.9476 - val_loss: 0.2555 - val_accuracy: 0.8981\n",
            "Epoch 5/5\n",
            "175/175 [==============================] - 2s 12ms/step - loss: 0.1250 - accuracy: 0.9559 - val_loss: 0.2695 - val_accuracy: 0.8947\n"
          ],
          "name": "stdout"
        }
      ]
    },
    {
      "cell_type": "code",
      "metadata": {
        "colab": {
          "base_uri": "https://localhost:8080/",
          "height": 265
        },
        "id": "HDn68e8rNzQo",
        "outputId": "6a79abea-c4a3-47ac-f42b-f83270e3a711"
      },
      "source": [
        "import matplotlib.pyplot as plt\n",
        "result = hist.history\n",
        "plt.plot(result[\"val_accuracy\"],label =\"val_acc\")\n",
        "plt.plot(result[\"accuracy\"],label=\"Train acc\")\n",
        "plt.legend()\n",
        "plt.show()"
      ],
      "execution_count": 18,
      "outputs": [
        {
          "output_type": "display_data",
          "data": {
            "image/png": "[encoded data removed]",
            "text/plain": [
              "<Figure size 432x288 with 1 Axes>"
            ]
          },
          "metadata": {
            "tags": [],
            "needs_background": "light"
          }
        }
      ]
    },
    {
      "cell_type": "code",
      "metadata": {
        "colab": {
          "base_uri": "https://localhost:8080/",
          "height": 266
        },
        "id": "nsIViI5KN2Po",
        "outputId": "3dac3510-7f1b-4803-abde-005e2958cc95"
      },
      "source": [
        "plt.plot(result[\"val_loss\"],label =\"val_loss\")\n",
        "plt.plot(result[\"loss\"],label=\"loss\")\n",
        "plt.legend()\n",
        "plt.show()"
      ],
      "execution_count": 19,
      "outputs": [
        {
          "output_type": "display_data",
          "data": {
            "image/png": "[encoded data removed]",
            "text/plain": [
              "<Figure size 432x288 with 1 Axes>"
            ]
          },
          "metadata": {
            "tags": [],
            "needs_background": "light"
          }
        }
      ]
    },
    {
      "cell_type": "code",
      "metadata": {
        "colab": {
          "base_uri": "https://localhost:8080/"
        },
        "id": "H3CMrVtoOBRL",
        "outputId": "3abdbe92-7d26-434a-d955-6466de9a7825"
      },
      "source": [
        "model.evaluate(X_final_valid,Y_final_valid)"
      ],
      "execution_count": 20,
      "outputs": [
        {
          "output_type": "stream",
          "text": [
            "235/235 [==============================] - 0s 2ms/step - loss: 0.2695 - accuracy: 0.8947\n"
          ],
          "name": "stdout"
        },
        {
          "output_type": "execute_result",
          "data": {
            "text/plain": [
              "[0.26951920986175537, 0.8946666717529297]"
            ]
          },
          "metadata": {
            "tags": []
          },
          "execution_count": 20
        }
      ]
    },
    {
      "cell_type": "markdown",
      "metadata": {
        "id": "gQ39lqGkVePl"
      },
      "source": [
        "#**End** **Result**\n",
        "#Accuracy = 89.8%\n",
        "\n",
        "Value loss(Minimum) = 24.5%"
      ]
    },
    {
      "cell_type": "markdown",
      "metadata": {
        "id": "uL9rJXThW1tU"
      },
      "source": [
        "**References**\n",
        "\n",
        "> https://faroit.com/keras-docs/1.2.0/\n",
        "\n",
        "> https://towardsdatascience.com/understanding-rmsprop-faster-neural-network-learning-62e116fcf29a\n",
        "\n",
        "> https://www.kaggle.com/lakshmi25npathi/imdb-dataset-of-50k-movie-reviews\n",
        "\n",
        ">https://stackoverflow.com/questions/38676436/a-transition-from-countvectorizer-to-tfidftransformer-in-sklearn\n",
        "\n",
        "> https://towardsdatascience.com/tf-idf-explained-and-python-sklearn-implementation-b020c5e83275\n",
        "\n",
        "\n",
        "\n",
        "\n",
        "\n",
        "\n",
        "\n",
        "\n",
        "\n",
        "\n",
        "\n"
      ]
    }
  ]
}